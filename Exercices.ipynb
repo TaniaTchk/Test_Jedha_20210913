{
 "cells": [
  {
   "cell_type": "code",
   "execution_count": 1,
   "metadata": {},
   "outputs": [
    {
     "name": "stdout",
     "output_type": "stream",
     "text": [
      "Here you have our quiz !\n",
      "-------\n"
     ]
    },
    {
     "name": "stdin",
     "output_type": "stream",
     "text": [
      "combien font 1+1 ? 4\n"
     ]
    },
    {
     "name": "stdout",
     "output_type": "stream",
     "text": [
      "votre reponse est 4\n",
      "Too bad! That is not the correct answer\n"
     ]
    },
    {
     "name": "stdin",
     "output_type": "stream",
     "text": [
      "combien font 1+1 ? 6\n"
     ]
    },
    {
     "name": "stdout",
     "output_type": "stream",
     "text": [
      "Too bad! That is not the correct answer\n"
     ]
    },
    {
     "name": "stdin",
     "output_type": "stream",
     "text": [
      "combien font 1+1 ? 2\n"
     ]
    },
    {
     "name": "stdout",
     "output_type": "stream",
     "text": [
      "Too bad! That is not the correct answer\n"
     ]
    }
   ],
   "source": [
    "print('Here you have our quiz !')\n",
    "print('-------')\n",
    "\n",
    "reponse_1=int(input('combien font 1+1 ?'))\n",
    "print('votre reponse est' , reponse_1)\n",
    "\n",
    "bonne_R =int(2)\n",
    "count = 0\n",
    "\n",
    "while reponse_1 != bonne_R:\n",
    "    print('Too bad! That is not the correct answer')\n",
    "    count = count + 1\n",
    "    if count == 3:\n",
    "        break\n",
    "    int(input('combien font 1+1 ?'))\n",
    "else:\n",
    "    print('Good job! This is the right answer')\n",
    "\n"
   ]
  },
  {
   "cell_type": "code",
   "execution_count": null,
   "metadata": {},
   "outputs": [
    {
     "name": "stdin",
     "output_type": "stream",
     "text": [
      "comment se nomme le CEO de Facebook ?  kls\n"
     ]
    },
    {
     "name": "stdout",
     "output_type": "stream",
     "text": [
      "votre reponse est kls\n",
      "Too bad! That is not the correct answer\n"
     ]
    },
    {
     "name": "stdin",
     "output_type": "stream",
     "text": [
      "comment se nomme le CEO de Facebook ?  sksl\n"
     ]
    },
    {
     "name": "stdout",
     "output_type": "stream",
     "text": [
      "Too bad! That is not the correct answer\n"
     ]
    },
    {
     "name": "stdin",
     "output_type": "stream",
     "text": [
      "comment se nomme le CEO de Facebook ?  Marc Zuckerberg\n"
     ]
    },
    {
     "name": "stdout",
     "output_type": "stream",
     "text": [
      "Too bad! That is not the correct answer\n"
     ]
    },
    {
     "name": "stdin",
     "output_type": "stream",
     "text": [
      "comment se nomme le CEO de Facebook ?  ,lkljk4\n",
      "quel est le NOM du président français? MACRON\n"
     ]
    },
    {
     "name": "stdout",
     "output_type": "stream",
     "text": [
      "votre reponse est MACRON\n",
      "Too bad! That is not the correct answer\n"
     ]
    },
    {
     "name": "stdin",
     "output_type": "stream",
     "text": [
      "quel est le NOM du président français? Macron\n"
     ]
    },
    {
     "name": "stdout",
     "output_type": "stream",
     "text": [
      "Too bad! That is not the correct answer\n"
     ]
    }
   ],
   "source": [
    "\n",
    "reponse_2=input('comment se nomme le CEO de Facebook ? ')\n",
    "print('votre reponse est' , reponse_2)\n",
    "\n",
    "bonne_R2='Marc Zuckerberg'\n",
    "count = 0\n",
    "\n",
    "while reponse_2 != bonne_R2:\n",
    "    print('Too bad! That is not the correct answer')\n",
    "    input('comment se nomme le CEO de Facebook ? ')\n",
    "    count = count + 1\n",
    "    if count == 3:\n",
    "        break\n",
    "    \n",
    "else:\n",
    "    print('Good job! This is the right answer')\n",
    "    \n",
    "reponse_3=input('quel est le NOM du président français?')\n",
    "print('votre reponse est' , reponse_3)\n",
    "\n",
    "bonne_R3='Macron'\n",
    "count = 0\n",
    "\n",
    "while reponse_3 != bonne_R3:\n",
    "    count = count + 1\n",
    "    print('Too bad! That is not the correct answer')\n",
    "    input('quel est le NOM du président français?')\n",
    "    if count == 3:\n",
    "        break Macron\n",
    "        \n",
    "\n",
    "else:\n",
    "    print('Good job! This is the right answer')"
   ]
  },
  {
   "cell_type": "code",
   "execution_count": null,
   "metadata": {},
   "outputs": [],
   "source": []
  }
 ],
 "metadata": {
  "kernelspec": {
   "display_name": "Python 3",
   "language": "python",
   "name": "python3"
  },
  "language_info": {
   "codemirror_mode": {
    "name": "ipython",
    "version": 3
   },
   "file_extension": ".py",
   "mimetype": "text/x-python",
   "name": "python",
   "nbconvert_exporter": "python",
   "pygments_lexer": "ipython3",
   "version": "3.8.6"
  }
 },
 "nbformat": 4,
 "nbformat_minor": 4
}
